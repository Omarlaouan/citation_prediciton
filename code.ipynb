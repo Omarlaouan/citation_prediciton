{
 "cells": [
  {
   "cell_type": "markdown",
   "metadata": {},
   "source": [
    "# Import librairies"
   ]
  },
  {
   "cell_type": "code",
   "execution_count": 52,
   "metadata": {},
   "outputs": [
    {
     "name": "stderr",
     "output_type": "stream",
     "text": [
      "[nltk_data] Downloading package stopwords to /Users/omar/nltk_data...\n",
      "[nltk_data]   Package stopwords is already up-to-date!\n"
     ]
    },
    {
     "data": {
      "text/plain": [
       "True"
      ]
     },
     "execution_count": 52,
     "metadata": {},
     "output_type": "execute_result"
    }
   ],
   "source": [
    "# Import necessary libraries and modules\n",
    "import csv\n",
    "import random\n",
    "import matplotlib.pyplot as plt\n",
    "import networkx as nx\n",
    "import numpy as np\n",
    "from numpy import dot\n",
    "from numpy.linalg import norm\n",
    "from sklearn.linear_model import LogisticRegression\n",
    "from sklearn.metrics import log_loss\n",
    "from sklearn.metrics import classification_report\n",
    "from xgboost import XGBClassifier\n",
    "from sklearn.preprocessing import MinMaxScaler\n",
    "from sklearn.preprocessing import StandardScaler\n",
    "from sklearn.model_selection import GridSearchCV\n",
    "from sklearn.utils import shuffle\n",
    "import shap\n",
    "import tensorflow as tf\n",
    "from tensorflow import keras\n",
    "from gensim.test.utils import common_texts\n",
    "from gensim.models.doc2vec import Doc2Vec, TaggedDocument\n",
    "import nltk\n",
    "from nltk.corpus import stopwords\n",
    "\n",
    "# Download NLTK stopwords\n",
    "nltk.download(\"stopwords\")\n",
    "\n",
    "# Import additional libraries and modules that require a progress bar\n",
    "from random import randint\n",
    "from tqdm import tqdm"
   ]
  },
  {
   "cell_type": "markdown",
   "metadata": {},
   "source": [
    "# Training and validation set"
   ]
  },
  {
   "cell_type": "code",
   "execution_count": null,
   "metadata": {},
   "outputs": [
    {
     "name": "stdout",
     "output_type": "stream",
     "text": [
      "Number of nodes: 138499\n",
      "Number of edges: 1091955\n"
     ]
    }
   ],
   "source": [
    "# Create a graph\n",
    "G = nx.read_edgelist('edgelist.txt', delimiter=',', create_using=nx.Graph(), nodetype=int)\n",
    "nodes = list(G.nodes())\n",
    "n = G.number_of_nodes()\n",
    "m = G.number_of_edges()\n",
    "print('Number of nodes:', n)\n",
    "print('Number of edges:', m)"
   ]
  },
  {
   "cell_type": "code",
   "execution_count": 204,
   "metadata": {},
   "outputs": [],
   "source": [
    "def extract_test_edges(G, split_rate):\n",
    "    \"\"\"\n",
    "    Randomly select a portion of the edges from the graph G, remove them from G,\n",
    "    and create a validation dataset with an equal number of positive and negative samples.\n",
    "\n",
    "    Args:\n",
    "        G (networkx.Graph): The input graph.\n",
    "        split_rate (float): The proportion of edges to be removed for validation.\n",
    "\n",
    "    Returns:\n",
    "        G (networkx.Graph): The modified graph with selected edges removed.\n",
    "        val_edges (list): A list of validation edges (positive and negative samples).\n",
    "        y_val (list): The corresponding labels for the validation edges (1 for positive samples, 0 for negative samples).\n",
    "    \"\"\"\n",
    "    val_edges = list()\n",
    "    y_val = list()\n",
    "    edges = G.edges()\n",
    "    nodes = list(G.nodes())\n",
    "    n = G.number_of_nodes()\n",
    "\n",
    "    # Select edges randomly based on split_rate and add them to val_edges\n",
    "    for edge in edges:\n",
    "        if random.random() < split_rate:\n",
    "            val_edges.append(edge)\n",
    "            y_val.append(1)\n",
    "\n",
    "    # Generate negative samples and add them to the list\n",
    "    negative_samples = list()\n",
    "    for i in range(len(val_edges)):\n",
    "        n1 = nodes[randint(0, n - 1)]\n",
    "        n2 = nodes[randint(0, n - 1)]\n",
    "        negative_samples.append((n1, n2))\n",
    "        y_val.append(0)\n",
    "\n",
    "    # Remove selected edges from the graph G\n",
    "    for edge in val_edges:\n",
    "        G.remove_edge(edge[0], edge[1])\n",
    "\n",
    "    # Combine positive and negative samples in val_edges\n",
    "    val_edges = [*val_edges, *negative_samples]\n",
    "\n",
    "    return G, val_edges, y_val\n",
    "\n",
    "\n",
    "# Usage:\n",
    "G, val_edges, y_valid = extract_test_edges(G, 0.2)"
   ]
  },
  {
   "cell_type": "code",
   "execution_count": 245,
   "metadata": {},
   "outputs": [],
   "source": [
    "# Convert the validation labels to a NumPy array\n",
    "y_valid = np.array(y_valid)"
   ]
  },
  {
   "cell_type": "markdown",
   "metadata": {},
   "source": [
    "# Features engineering"
   ]
  },
  {
   "cell_type": "code",
   "execution_count": null,
   "metadata": {},
   "outputs": [],
   "source": [
    "def get_jaccard_coefficient(current_node1, current_node2):\n",
    "    \"\"\"Calculate the Jaccard Coefficient for two nodes.\"\"\"\n",
    "    jac = nx.jaccard_coefficient(G, [(current_node1, current_node2)])\n",
    "    return list(jac)[-1][-1]\n",
    "\n",
    "\n",
    "def get_adamic_adar_index(e1, e2):\n",
    "    \"\"\"Calculate the Adamic-Adar Index for two nodes.\"\"\"\n",
    "    preds = nx.adamic_adar_index(G, [(e1, e2)])\n",
    "    try:\n",
    "        for u, v, p in preds:\n",
    "            return p\n",
    "    except:\n",
    "        return 0\n",
    "\n",
    "\n",
    "def get_clustering(e1, e2):\n",
    "    \"\"\"Calculate the clustering coefficient for two nodes.\"\"\"\n",
    "    res = list(nx.clustering(G, [e1, e2]).values())\n",
    "    if len(res) == 1:\n",
    "        res = [res[0], res[0]]\n",
    "    return res\n",
    "\n",
    "\n",
    "def get_common_neighbor_centrality(e1, e2):\n",
    "    \"\"\"Calculate the Common Neighbor Centrality for two nodes.\"\"\"\n",
    "    preds = nx.common_neighbor_centrality(G, [(e1, e2)])\n",
    "    for u, v, p in preds:\n",
    "        return p\n",
    "\n",
    "\n",
    "def get_cn_soundarajan_hopcroft(e1, e2):\n",
    "    \"\"\"Calculate the CN Soundarajan-Hopcroft score for two nodes.\"\"\"\n",
    "    preds = nx.cn_soundarajan_hopcroft(G, [(e1, e2)])\n",
    "    try:\n",
    "        for u, v, p in preds:\n",
    "            return p\n",
    "    except:\n",
    "        return 0\n",
    "\n",
    "\n",
    "def get_ra_index_soundarajan_hopcroft(e1, e2):\n",
    "    \"\"\"Calculate the RA Soundarajan-Hopcroft score for two nodes.\"\"\"\n",
    "    preds = nx.ra_index_soundarajan_hopcroft(G, [(e1, e2)])\n",
    "    try:\n",
    "        for u, v, p in preds:\n",
    "            return p\n",
    "    except:\n",
    "        return 0\n",
    "\n",
    "\n",
    "def get_degree(node):\n",
    "    \"\"\"Calculate the degree of a node.\"\"\"\n",
    "    res = G.degree(node)\n",
    "    return res\n",
    "\n",
    "\n",
    "def get_degree_centrality(node):\n",
    "    \"\"\"Calculate the degree centrality of a node.\"\"\"\n",
    "    res = nx.degree_centrality(G)[0]\n",
    "    return res\n",
    "\n",
    "\n",
    "def get_resource_allocation(e1, e2):\n",
    "    \"\"\"Calculate the Resource Allocation Index for two nodes.\"\"\"\n",
    "    preds = nx.resource_allocation_index(G, [(e1, e2)])\n",
    "    for u, v, p in preds:\n",
    "        return p\n",
    "\n",
    "\n",
    "def get_abstract_embedding(node):\n",
    "    \"\"\"Get the abstract embedding of a node.\"\"\"\n",
    "    res = abstracts_emb[node]\n",
    "    return res\n",
    "\n",
    "\n",
    "def get_authors_embedding(node):\n",
    "    \"\"\"Get the authors embedding of a node.\"\"\"\n",
    "    res = authors_emb[node]\n",
    "    return res\n",
    "\n",
    "\n",
    "def get_cosine_similarity(list_1, list_2):\n",
    "    \"\"\"Calculate the cosine similarity between two vectors.\"\"\"\n",
    "    cos_sim = dot(list_1, list_2) / (norm(list_1) * norm(list_2))\n",
    "    return cos_sim"
   ]
  },
  {
   "cell_type": "markdown",
   "metadata": {},
   "source": [
    "## Abstract embeddings"
   ]
  },
  {
   "cell_type": "code",
   "execution_count": 345,
   "metadata": {},
   "outputs": [
    {
     "name": "stderr",
     "output_type": "stream",
     "text": [
      "100%|██████████| 138499/138499 [00:05<00:00, 25819.80it/s]\n"
     ]
    },
    {
     "name": "stdout",
     "output_type": "stream",
     "text": [
      "tagging documents\n"
     ]
    },
    {
     "name": "stderr",
     "output_type": "stream",
     "text": [
      "100%|██████████| 138499/138499 [00:29<00:00, 4693.64it/s] \n"
     ]
    },
    {
     "name": "stdout",
     "output_type": "stream",
     "text": [
      "begin training\n"
     ]
    }
   ],
   "source": [
    "# Load abstracts from a file and preprocess them\n",
    "abstracts = dict()\n",
    "abstracts_split_list = []\n",
    "stop = set(stopwords.words(\"english\"))\n",
    "\n",
    "# Read abstracts from file and tokenize them\n",
    "with open('abstracts.txt', 'r') as f:\n",
    "    for line in tqdm(f, total=138499):\n",
    "        node, abstract = line.split('|--|')\n",
    "        abstracts_split = [word.lower() for word in abstract.split() if word.lower() not in stop]\n",
    "        abstracts_split_list.append(abstracts_split)\n",
    "\n",
    "# Train a Doc2Vec model on the preprocessed abstracts\n",
    "print(\"tagging documents\")\n",
    "documents = [TaggedDocument(doc, [i]) for i, doc in tqdm(enumerate(abstracts_split_list), total=len(abstracts_split_list))]\n",
    "\n",
    "print(\"begin training\")\n",
    "doc2vec_model_abstracts = Doc2Vec(documents, vector_size=5, window=2, min_count=1, workers=8)"
   ]
  },
  {
   "cell_type": "code",
   "execution_count": 365,
   "metadata": {},
   "outputs": [],
   "source": [
    "# save doc2vec model\n",
    "#Doc2Vec.save(doc2vec_model_abstracts, \"doc2vec_model_abstracts\")\n",
    "# load\n",
    "#doc2vec_model_abstratcs = Doc2Vec.load(\"doc2vec_model_abstracts\")"
   ]
  },
  {
   "cell_type": "code",
   "execution_count": 358,
   "metadata": {},
   "outputs": [
    {
     "name": "stderr",
     "output_type": "stream",
     "text": [
      "100%|██████████| 138499/138499 [00:00<00:00, 324308.14it/s]\n"
     ]
    }
   ],
   "source": [
    "# Load abstracts from a file, preprocess them and get embeddings using the trained Doc2Vec model\n",
    "abstracts_ = dict()\n",
    "\n",
    "# Read abstracts from file and tokenize them\n",
    "with open('abstracts.txt', 'r') as f:\n",
    "    for line in f:\n",
    "        node, abstract = line.split('|--|')\n",
    "        abstracts_[int(node)] = [word.lower() for word in abstract.split() if word.lower() not in stop]\n",
    "\n",
    "# Get embeddings for each node in the graph using the trained Doc2Vec model\n",
    "abstracts_emb = {}\n",
    "for i, node in tqdm(enumerate(G.nodes()), total=len(G.nodes())):\n",
    "    doc = abstracts_[node]\n",
    "    node_emb = doc2vec_model_abstracts.dv[node]\n",
    "    abstracts_emb[node] = node_emb"
   ]
  },
  {
   "cell_type": "markdown",
   "metadata": {},
   "source": [
    "## Authors embeddings"
   ]
  },
  {
   "cell_type": "code",
   "execution_count": 364,
   "metadata": {},
   "outputs": [
    {
     "name": "stderr",
     "output_type": "stream",
     "text": [
      "100%|██████████| 138499/138499 [00:00<00:00, 1103234.29it/s]\n"
     ]
    },
    {
     "name": "stdout",
     "output_type": "stream",
     "text": [
      "training\n"
     ]
    }
   ],
   "source": [
    "# Load authors from a file, preprocess them and train a Doc2Vec model\n",
    "authors = dict()\n",
    "\n",
    "# Read authors from file and store them in a dictionary\n",
    "with open('authors.txt', 'r') as f:\n",
    "    for line in f:\n",
    "        node, author = line.split('|--|')\n",
    "        authors[int(node)] = author\n",
    "\n",
    "# Map text to set of terms\n",
    "for node in authors:\n",
    "    authors[node] = authors[node].strip().split(sep=\", \")\n",
    "\n",
    "# Create TaggedDocument objects for each set of authors\n",
    "documents = [TaggedDocument(doc, [i]) for i, doc in tqdm(enumerate(authors.values()), total=len(authors))]\n",
    "\n",
    "# Train a Doc2Vec model on the preprocessed authors\n",
    "print(\"training\")\n",
    "doc2vec_model_authors = Doc2Vec(documents, vector_size=5, window=2, min_count=1, workers=8)"
   ]
  },
  {
   "cell_type": "code",
   "execution_count": 366,
   "metadata": {},
   "outputs": [],
   "source": [
    "# save doc2vec model\n",
    "Doc2Vec.save(doc2vec_model_authors, \"doc2vec_model_authors\")"
   ]
  },
  {
   "cell_type": "code",
   "execution_count": 370,
   "metadata": {},
   "outputs": [
    {
     "name": "stderr",
     "output_type": "stream",
     "text": [
      "100%|██████████| 138499/138499 [00:00<00:00, 486372.61it/s]\n"
     ]
    }
   ],
   "source": [
    "# Get embeddings for each node in the graph using the trained Doc2Vec model for authors\n",
    "authors_emb = {}\n",
    "for i, node in tqdm(enumerate(G.nodes()), total=len(G.nodes())):\n",
    "    doc = authors[node]\n",
    "    node_emb = doc2vec_model_authors.dv[node]\n",
    "    authors_emb[node] = node_emb"
   ]
  },
  {
   "cell_type": "markdown",
   "metadata": {},
   "source": [
    "## Building features on X_train, y_train,  X_test"
   ]
  },
  {
   "cell_type": "code",
   "execution_count": 386,
   "metadata": {},
   "outputs": [],
   "source": [
    "# Reload the abstracts of each paper and map the text to a set of terms\n",
    "abstracts = dict()\n",
    "\n",
    "# Read abstracts from the file\n",
    "with open('abstracts.txt', 'r') as f:\n",
    "    for line in f:\n",
    "        node, abstract = line.split('|--|')\n",
    "        abstracts[int(node)] = abstract\n",
    "\n",
    "# Map text to set of terms\n",
    "for node in abstracts:\n",
    "    abstracts[node] = set(abstracts[node].split())"
   ]
  },
  {
   "cell_type": "code",
   "execution_count": 387,
   "metadata": {},
   "outputs": [
    {
     "name": "stderr",
     "output_type": "stream",
     "text": [
      "100%|██████████| 699757/699757 [24:46<00:00, 470.83it/s]  "
     ]
    },
    {
     "name": "stdout",
     "output_type": "stream",
     "text": [
      "Size of training matrix: (1399514, 12)\n"
     ]
    },
    {
     "name": "stderr",
     "output_type": "stream",
     "text": [
      "\n"
     ]
    }
   ],
   "source": [
    "# Create training set with feature vectors for both existing and randomly generated node pairs\n",
    "X_train = np.zeros((2*m, 12))\n",
    "y_train = np.zeros(2*m)\n",
    "n = G.number_of_nodes()\n",
    "m = G.number_of_edges()\n",
    "\n",
    "# Iterate through the edges and randomly generated node pairs\n",
    "for i, edge in tqdm(enumerate(G.edges()), total=m):\n",
    "    # Features for an existing edge\n",
    "    X_train[2*i, :] = [\n",
    "        len(abstracts[edge[0]]) + len(abstracts[edge[1]]),\n",
    "        abs(len(abstracts[edge[0]]) - len(abstracts[edge[1]])),\n",
    "        len(abstracts[edge[0]].intersection(abstracts[edge[1]])),\n",
    "        G.degree(edge[0]) + G.degree(edge[1]),\n",
    "        abs(G.degree(edge[0]) - G.degree(edge[1])),\n",
    "        get_jaccard_coefficient(edge[0], edge[1]),\n",
    "        get_adamic_adar_index(edge[0], edge[1]),\n",
    "        get_cosine_similarity(get_abstract_embedding(edge[0]), get_abstract_embedding(edge[1])),\n",
    "        get_resource_allocation(edge[0], edge[1]),\n",
    "        *get_clustering(edge[0], edge[1]),\n",
    "        get_cosine_similarity(get_authors_embedding(edge[0]), get_authors_embedding(edge[1])),\n",
    "    ]\n",
    "    y_train[2*i] = 1\n",
    "\n",
    "    # Features for a randomly generated pair of nodes\n",
    "    n1 = randint(0, n-1)\n",
    "    n2 = randint(0, n-1)\n",
    "    X_train[2*i+1, :] = [\n",
    "        len(abstracts[n1]) + len(abstracts[n2]),\n",
    "        abs(len(abstracts[n1]) - len(abstracts[n2])),\n",
    "        len(abstracts[n1].intersection(abstracts[n2])),\n",
    "        G.degree(n1) + G.degree(n2),\n",
    "        abs(G.degree(n1) - G.degree(n2)),\n",
    "        get_jaccard_coefficient(n1, n2),\n",
    "        get_adamic_adar_index(n1, n2),\n",
    "        get_cosine_similarity(get_abstract_embedding(n1), get_abstract_embedding(n2)),\n",
    "        get_resource_allocation(n1, n2),\n",
    "        *get_clustering(n1, n2),\n",
    "        get_cosine_similarity(get_authors_embedding(n1), get_authors_embedding(n2)),\n",
    "    ]\n",
    "    y_train[2*i+1] = 0\n",
    "\n",
    "print('Size of training matrix:', X_train.shape)"
   ]
  },
  {
   "cell_type": "code",
   "execution_count": 388,
   "metadata": {},
   "outputs": [
    {
     "name": "stderr",
     "output_type": "stream",
     "text": [
      "100%|██████████| 349006/349006 [06:02<00:00, 963.31it/s] "
     ]
    },
    {
     "name": "stdout",
     "output_type": "stream",
     "text": [
      "Size of validation matrix: (349006, 12)\n"
     ]
    },
    {
     "name": "stderr",
     "output_type": "stream",
     "text": [
      "\n"
     ]
    }
   ],
   "source": [
    "# Create validation set with feature vectors for both existing and randomly generated node pairs\n",
    "X_valid = np.zeros((len(val_edges), 12))\n",
    "\n",
    "# Iterate through the validation edges\n",
    "for i, edge in tqdm(enumerate(val_edges), total=len(val_edges)):\n",
    "    # Features for an existing edge\n",
    "    X_valid[i, :] = [\n",
    "        len(abstracts[edge[0]]) + len(abstracts[edge[1]]),\n",
    "        abs(len(abstracts[edge[0]]) - len(abstracts[edge[1]])),\n",
    "        len(abstracts[edge[0]].intersection(abstracts[edge[1]])),\n",
    "        G.degree(edge[0]) + G.degree(edge[1]),\n",
    "        abs(G.degree(edge[0]) - G.degree(edge[1])),\n",
    "        get_jaccard_coefficient(edge[0], edge[1]),\n",
    "        get_adamic_adar_index(edge[0], edge[1]),\n",
    "        get_cosine_similarity(get_abstract_embedding(edge[0]), get_abstract_embedding(edge[1])),\n",
    "        get_resource_allocation(edge[0], edge[1]),\n",
    "        *get_clustering(edge[0], edge[1]),\n",
    "        get_cosine_similarity(get_authors_embedding(edge[0]), get_authors_embedding(edge[1])),\n",
    "    ]\n",
    "\n",
    "print('Size of validation matrix:', X_valid.shape)"
   ]
  },
  {
   "cell_type": "code",
   "execution_count": 389,
   "metadata": {},
   "outputs": [
    {
     "name": "stderr",
     "output_type": "stream",
     "text": [
      "100%|██████████| 106692/106692 [02:00<00:00, 883.49it/s] "
     ]
    },
    {
     "name": "stdout",
     "output_type": "stream",
     "text": [
      "Size of test matrix: (106692, 12)\n"
     ]
    },
    {
     "name": "stderr",
     "output_type": "stream",
     "text": [
      "\n"
     ]
    }
   ],
   "source": [
    "# Create the test set with feature vectors for the node pairs in the test data\n",
    "X_test = np.zeros((len(node_pairs), 12))\n",
    "\n",
    "# Iterate through the node pairs in the test data\n",
    "for i, node_pair in tqdm(enumerate(node_pairs), total=len(node_pairs)):\n",
    "    # Calculate features for each node pair\n",
    "    X_test[i, :] = [\n",
    "        len(abstracts[node_pair[0]]) + len(abstracts[node_pair[1]]),\n",
    "        abs(len(abstracts[node_pair[0]]) - len(abstracts[node_pair[1]])),\n",
    "        len(abstracts[node_pair[0]].intersection(abstracts[node_pair[1]])),\n",
    "        G.degree(node_pair[0]) + G.degree(node_pair[1]),\n",
    "        abs(G.degree(node_pair[0]) - G.degree(node_pair[1])),\n",
    "        get_jaccard_coefficient(node_pair[0], node_pair[1]),\n",
    "        get_adamic_adar_index(node_pair[0], node_pair[1]),\n",
    "        get_cosine_similarity(get_abstract_embedding(node_pair[0]), get_abstract_embedding(node_pair[1])),\n",
    "        get_resource_allocation(node_pair[0], node_pair[1]),\n",
    "        *get_clustering(node_pair[0], node_pair[1]),\n",
    "        get_cosine_similarity(get_authors_embedding(node_pair[0]), get_authors_embedding(node_pair[1])),\n",
    "    ]\n",
    "\n",
    "print('Size of test matrix:', X_test.shape)"
   ]
  },
  {
   "cell_type": "code",
   "execution_count": 390,
   "metadata": {},
   "outputs": [],
   "source": [
    "# #SAVING\n",
    "# np.savetxt(\"X_train8.csv\", X_train, delimiter = \",\")\n",
    "# np.savetxt(\"y_train8.csv\", y_train, delimiter = \",\")\n",
    "# np.savetxt(\"X_valid8.csv\", X_valid, delimiter = \",\")\n",
    "# np.savetxt(\"y_valid8.csv\", y_valid, delimiter = \",\")\n",
    "# np.savetxt(\"X_test8.csv\", X_test, delimiter = \",\")\n",
    "\n",
    "# LOADING\n",
    "# X_train = np.loadtxt(\"X_train8.csv\",delimiter = \",\", dtype=float)\n",
    "# y_train = np.loadtxt(\"y_train8.csv\",delimiter = \",\", dtype=float)\n",
    "# X_valid = np.loadtxt(\"X_valid8.csv\",delimiter = \",\", dtype=float)\n",
    "# y_valid = np.loadtxt(\"y_valid8.csv\",delimiter = \",\", dtype=float)\n",
    "# X_test = np.loadtxt(\"X_test8.csv\",delimiter = \",\", dtype=float)"
   ]
  },
  {
   "cell_type": "markdown",
   "metadata": {},
   "source": [
    "## Scaling the data"
   ]
  },
  {
   "cell_type": "code",
   "execution_count": 45,
   "metadata": {},
   "outputs": [],
   "source": [
    "# Initialize the StandardScaler\n",
    "scaler = StandardScaler()\n",
    "\n",
    "# Fit and transform the training set\n",
    "X_train = scaler.fit_transform(X_train)\n",
    "\n",
    "# Fit and transform the validation set\n",
    "X_valid = scaler.fit_transform(X_valid)\n",
    "\n",
    "# Transform the test set using the scaler fit from the training set\n",
    "X_test = scaler.transform(X_test)"
   ]
  },
  {
   "cell_type": "markdown",
   "metadata": {},
   "source": [
    "# Modeling"
   ]
  },
  {
   "cell_type": "markdown",
   "metadata": {},
   "source": [
    "### logistic regression"
   ]
  },
  {
   "cell_type": "code",
   "execution_count": 46,
   "metadata": {},
   "outputs": [
    {
     "name": "stdout",
     "output_type": "stream",
     "text": [
      "Log loss: 0.2765797486654229\n",
      "Log loss: 0.30863059352784394\n"
     ]
    },
    {
     "data": {
      "text/plain": [
       "(array([0, 1]), array([195998, 153008]))"
      ]
     },
     "execution_count": 46,
     "metadata": {},
     "output_type": "execute_result"
    }
   ],
   "source": [
    "# Import necessary modules\n",
    "from sklearn.linear_model import LogisticRegression\n",
    "from sklearn.metrics import log_loss\n",
    "\n",
    "# Train the logistic regression model\n",
    "lr_clf = LogisticRegression(max_iter=1000)\n",
    "lr_clf.fit(X_train, y_train)\n",
    "\n",
    "# Predict probabilities on the training set\n",
    "y_proba_train = lr_clf.predict_proba(X_train)\n",
    "\n",
    "# Calculate log loss on the training set\n",
    "y_pred_train = y_proba_train[:, -1]\n",
    "print('Log loss (training set):', log_loss(y_train, y_pred_train))\n",
    "\n",
    "# Predict probabilities on the validation set\n",
    "y_proba_valid = lr_clf.predict_proba(X_valid)\n",
    "\n",
    "# Calculate log loss on the validation set\n",
    "y_pred_valid = y_proba_valid[:, -1]\n",
    "print('Log loss (validation set):', log_loss(y_valid, y_pred_valid))\n",
    "\n",
    "# Count unique predicted values for the validation set after thresholding at 0.5\n",
    "unique_counts = np.unique(np.where(y_pred_valid > 0.5, 1, 0), return_counts=True)\n",
    "print(\"Unique counts (validation set):\", unique_counts)"
   ]
  },
  {
   "cell_type": "code",
   "execution_count": 448,
   "metadata": {},
   "outputs": [
    {
     "name": "stdout",
     "output_type": "stream",
     "text": [
      "              precision    recall  f1-score   support\n",
      "\n",
      "         0.0       0.85      0.91      0.88    174503\n",
      "         1.0       0.90      0.84      0.87    174503\n",
      "\n",
      "    accuracy                           0.87    349006\n",
      "   macro avg       0.87      0.87      0.87    349006\n",
      "weighted avg       0.87      0.87      0.87    349006\n",
      "\n"
     ]
    }
   ],
   "source": [
    "print(classification_report(y_valid, np.where(y_pred_valid>0.5, 1, 0)))"
   ]
  },
  {
   "cell_type": "code",
   "execution_count": 128,
   "metadata": {},
   "outputs": [
    {
     "data": {
      "text/plain": [
       "(array([0, 1]), array([58270, 48422]))"
      ]
     },
     "execution_count": 128,
     "metadata": {},
     "output_type": "execute_result"
    }
   ],
   "source": [
    "# Predict probabilities on the test set\n",
    "y_proba = lr_clf.predict_proba(X_test)\n",
    "\n",
    "# Get the predicted values after thresholding at 0.5\n",
    "y_pred = y_proba[:, -1]\n",
    "thresholded_predictions = np.where(y_pred > 0.5, 1, 0)\n",
    "\n",
    "# Count unique predicted values\n",
    "unique_counts = np.unique(thresholded_predictions, return_counts=True)\n",
    "print(\"Unique counts (test set):\", unique_counts)"
   ]
  },
  {
   "cell_type": "markdown",
   "metadata": {},
   "source": [
    "## XgBoost"
   ]
  },
  {
   "cell_type": "code",
   "execution_count": 4,
   "metadata": {},
   "outputs": [
    {
     "name": "stdout",
     "output_type": "stream",
     "text": [
      "[11:59:45] WARNING: ../src/learner.cc:1115: Starting in XGBoost 1.3.0, the default evaluation metric used with the objective 'binary:logistic' was changed from 'error' to 'logloss'. Explicitly set eval_metric if you'd like to restore the old behavior.\n",
      "Log loss train: 0.22486679174883656\n",
      "Log loss valid: 0.3094855543438193\n"
     ]
    }
   ],
   "source": [
    "from xgboost import XGBClassifier\n",
    "\n",
    "# Instantiate the classifier\n",
    "xgb_clf = XGBClassifier(n_jobs=8, use_label_encoder=False)\n",
    "\n",
    "# Fit the classifier to the training data\n",
    "xgb_clf.fit(X_train, y_train)\n",
    "\n",
    "# Predict probabilities on the training set\n",
    "y_proba_train = xgb_clf.predict_proba(X_train)\n",
    "y_pred_train = y_proba_train[:, 1]\n",
    "print('Log loss (train):', log_loss(y_train, y_pred_train))\n",
    "\n",
    "# Predict probabilities on the validation set\n",
    "y_proba_valid = xgb_clf.predict_proba(X_valid)\n",
    "y_pred_valid = y_proba_valid[:, 1]\n",
    "print('Log loss (valid):', log_loss(y_valid, y_pred_valid))"
   ]
  },
  {
   "cell_type": "code",
   "execution_count": 450,
   "metadata": {},
   "outputs": [
    {
     "name": "stdout",
     "output_type": "stream",
     "text": [
      "              precision    recall  f1-score   support\n",
      "\n",
      "         0.0       0.85      0.91      0.88    174503\n",
      "         1.0       0.90      0.84      0.87    174503\n",
      "\n",
      "    accuracy                           0.87    349006\n",
      "   macro avg       0.87      0.87      0.87    349006\n",
      "weighted avg       0.87      0.87      0.87    349006\n",
      "\n"
     ]
    }
   ],
   "source": [
    "print(classification_report(y_valid, np.where(y_pred_valid>0.5, 1, 0)))"
   ]
  },
  {
   "cell_type": "code",
   "execution_count": 91,
   "metadata": {},
   "outputs": [
    {
     "data": {
      "text/plain": [
       "(array([3.4163717e-05, 4.1241452e-05, 5.3925243e-05, ..., 9.9999833e-01,\n",
       "        9.9999857e-01, 9.9999881e-01], dtype=float32),\n",
       " array([1, 1, 1, ..., 2, 1, 1]))"
      ]
     },
     "execution_count": 91,
     "metadata": {},
     "output_type": "execute_result"
    }
   ],
   "source": [
    "# Predict probabilities on the test set\n",
    "y_proba = xgb_clf.predict_proba(X_test)\n",
    "y_pred = y_proba[:, 1]\n",
    "\n",
    "# Get unique probabilities and their counts\n",
    "unique_probs, counts = np.unique(y_pred, return_counts=True)\n",
    "print(\"Unique probabilities:\", unique_probs)\n",
    "print(\"Counts:\", counts)"
   ]
  },
  {
   "cell_type": "markdown",
   "metadata": {},
   "source": [
    "## Multi Layers Perceptron"
   ]
  },
  {
   "cell_type": "code",
   "execution_count": 433,
   "metadata": {},
   "outputs": [
    {
     "name": "stdout",
     "output_type": "stream",
     "text": [
      "Epoch 1/30\n",
      "43735/43735 [==============================] - 43s 970us/step - loss: 0.2552 - binary_accuracy: 0.8920 - val_loss: 0.2959 - val_binary_accuracy: 0.8769\n",
      "Epoch 2/30\n",
      "43735/43735 [==============================] - 45s 1ms/step - loss: 0.2450 - binary_accuracy: 0.8957 - val_loss: 0.2966 - val_binary_accuracy: 0.8787\n",
      "Epoch 3/30\n",
      "43735/43735 [==============================] - 42s 963us/step - loss: 0.2428 - binary_accuracy: 0.8965 - val_loss: 0.2955 - val_binary_accuracy: 0.8788\n",
      "Epoch 4/30\n",
      "43735/43735 [==============================] - 44s 1ms/step - loss: 0.2417 - binary_accuracy: 0.8972 - val_loss: 0.2933 - val_binary_accuracy: 0.8815\n",
      "Epoch 5/30\n",
      "43735/43735 [==============================] - 39s 891us/step - loss: 0.2408 - binary_accuracy: 0.8975 - val_loss: 0.2993 - val_binary_accuracy: 0.8801\n",
      "Epoch 6/30\n",
      "43735/43735 [==============================] - 37s 854us/step - loss: 0.2400 - binary_accuracy: 0.8976 - val_loss: 0.3153 - val_binary_accuracy: 0.8790\n",
      "Epoch 7/30\n",
      "43735/43735 [==============================] - 37s 854us/step - loss: 0.2395 - binary_accuracy: 0.8979 - val_loss: 0.3017 - val_binary_accuracy: 0.8804\n",
      "Epoch 8/30\n",
      "43735/43735 [==============================] - 37s 848us/step - loss: 0.2392 - binary_accuracy: 0.8981 - val_loss: 0.3164 - val_binary_accuracy: 0.8794\n",
      "Epoch 9/30\n",
      "43735/43735 [==============================] - 38s 859us/step - loss: 0.2388 - binary_accuracy: 0.8980 - val_loss: 0.3200 - val_binary_accuracy: 0.8785\n",
      "Epoch 10/30\n",
      "43735/43735 [==============================] - 37s 852us/step - loss: 0.2385 - binary_accuracy: 0.8981 - val_loss: 0.3012 - val_binary_accuracy: 0.8808\n",
      "Epoch 11/30\n",
      "43735/43735 [==============================] - 37s 854us/step - loss: 0.2382 - binary_accuracy: 0.8984 - val_loss: 0.3361 - val_binary_accuracy: 0.8782\n",
      "Epoch 12/30\n",
      "43735/43735 [==============================] - 37s 851us/step - loss: 0.2382 - binary_accuracy: 0.8985 - val_loss: 0.3150 - val_binary_accuracy: 0.8814\n",
      "Epoch 13/30\n",
      "43735/43735 [==============================] - 38s 867us/step - loss: 0.2377 - binary_accuracy: 0.8985 - val_loss: 0.3231 - val_binary_accuracy: 0.8804\n",
      "Epoch 14/30\n",
      "43735/43735 [==============================] - 41s 942us/step - loss: 0.2375 - binary_accuracy: 0.8986 - val_loss: 0.3369 - val_binary_accuracy: 0.8792\n",
      "Epoch 15/30\n",
      "43735/43735 [==============================] - 37s 849us/step - loss: 0.2375 - binary_accuracy: 0.8985 - val_loss: 0.3534 - val_binary_accuracy: 0.8782\n",
      "Epoch 16/30\n",
      "43735/43735 [==============================] - 37s 857us/step - loss: 0.2375 - binary_accuracy: 0.8986 - val_loss: 0.3470 - val_binary_accuracy: 0.8792\n",
      "Epoch 17/30\n",
      "43735/43735 [==============================] - 37s 850us/step - loss: 0.2372 - binary_accuracy: 0.8988 - val_loss: 0.3771 - val_binary_accuracy: 0.8789\n",
      "Epoch 18/30\n",
      "43735/43735 [==============================] - 37s 853us/step - loss: 0.2370 - binary_accuracy: 0.8987 - val_loss: 0.3433 - val_binary_accuracy: 0.8804\n",
      "Epoch 19/30\n",
      "43735/43735 [==============================] - 37s 850us/step - loss: 0.2370 - binary_accuracy: 0.8988 - val_loss: 0.3451 - val_binary_accuracy: 0.8792\n",
      "Epoch 20/30\n",
      "43735/43735 [==============================] - 40s 910us/step - loss: 0.2369 - binary_accuracy: 0.8988 - val_loss: 0.3408 - val_binary_accuracy: 0.8803\n",
      "Epoch 21/30\n",
      "43735/43735 [==============================] - 39s 893us/step - loss: 0.2367 - binary_accuracy: 0.8989 - val_loss: 0.3730 - val_binary_accuracy: 0.8789\n",
      "Epoch 22/30\n",
      "43735/43735 [==============================] - 45s 1ms/step - loss: 0.2365 - binary_accuracy: 0.8989 - val_loss: 0.3871 - val_binary_accuracy: 0.8783\n",
      "Epoch 23/30\n",
      "43735/43735 [==============================] - 42s 955us/step - loss: 0.2365 - binary_accuracy: 0.8989 - val_loss: 0.3597 - val_binary_accuracy: 0.8780\n",
      "Epoch 24/30\n",
      "43735/43735 [==============================] - 44s 997us/step - loss: 0.2365 - binary_accuracy: 0.8989 - val_loss: 0.3740 - val_binary_accuracy: 0.8775\n",
      "Epoch 25/30\n",
      "43735/43735 [==============================] - 42s 956us/step - loss: 0.2363 - binary_accuracy: 0.8991 - val_loss: 0.3653 - val_binary_accuracy: 0.8799\n",
      "Epoch 26/30\n",
      "43735/43735 [==============================] - 41s 935us/step - loss: 0.2364 - binary_accuracy: 0.8991 - val_loss: 0.3786 - val_binary_accuracy: 0.8789\n",
      "Epoch 27/30\n",
      "43735/43735 [==============================] - 37s 851us/step - loss: 0.2364 - binary_accuracy: 0.8988 - val_loss: 0.4559 - val_binary_accuracy: 0.8787\n",
      "Epoch 28/30\n",
      "43735/43735 [==============================] - 37s 845us/step - loss: 0.2360 - binary_accuracy: 0.8991 - val_loss: 0.4073 - val_binary_accuracy: 0.8797\n",
      "Epoch 29/30\n",
      "43735/43735 [==============================] - 37s 844us/step - loss: 0.2363 - binary_accuracy: 0.8990 - val_loss: 0.3738 - val_binary_accuracy: 0.8782\n",
      "Epoch 30/30\n",
      "43735/43735 [==============================] - 38s 864us/step - loss: 0.2363 - binary_accuracy: 0.8991 - val_loss: 0.3708 - val_binary_accuracy: 0.8797\n"
     ]
    }
   ],
   "source": [
    "# Set random seed for reproducibility\n",
    "tf.random.set_seed(42)\n",
    "\n",
    "# Define the neural network model\n",
    "model = keras.Sequential()\n",
    "model.add(keras.layers.InputLayer(input_shape=[12,]))\n",
    "model.add(keras.layers.Dense(128, activation=\"relu\"))\n",
    "model.add(keras.layers.Dropout(0.2))\n",
    "model.add(keras.layers.Dense(64, activation=\"relu\"))\n",
    "model.add(keras.layers.Dropout(0.2))\n",
    "model.add(keras.layers.Dense(16, activation=\"relu\"))\n",
    "model.add(keras.layers.Dense(1, activation=\"sigmoid\"))\n",
    "\n",
    "# Compile the model\n",
    "model.compile(\n",
    "    loss=\"binary_crossentropy\",\n",
    "    optimizer=\"Adam\",\n",
    "    metrics=[\"binary_accuracy\"],\n",
    ")\n",
    "\n",
    "# Train the model\n",
    "history = model.fit(\n",
    "    X_train, y_train, epochs=30, validation_data=(X_valid, y_valid)\n",
    ")"
   ]
  },
  {
   "cell_type": "code",
   "execution_count": 453,
   "metadata": {},
   "outputs": [
    {
     "name": "stdout",
     "output_type": "stream",
     "text": [
      "    9/10907 [..............................] - ETA: 1:11 "
     ]
    },
    {
     "name": "stderr",
     "output_type": "stream",
     "text": [
      "2022-07-05 22:49:49.578736: I tensorflow/core/grappler/optimizers/custom_graph_optimizer_registry.cc:113] Plugin optimizer for device_type GPU is enabled.\n"
     ]
    },
    {
     "name": "stdout",
     "output_type": "stream",
     "text": [
      "10907/10907 [==============================] - 33s 3ms/step\n"
     ]
    },
    {
     "name": "stderr",
     "output_type": "stream",
     "text": [
      "/Users/omar/miniforge3/lib/python3.8/site-packages/sklearn/metrics/_classification.py:2442: RuntimeWarning: divide by zero encountered in log\n",
      "  loss = -(transformed_labels * np.log(y_pred)).sum(axis=1)\n",
      "/Users/omar/miniforge3/lib/python3.8/site-packages/sklearn/metrics/_classification.py:2442: RuntimeWarning: invalid value encountered in multiply\n",
      "  loss = -(transformed_labels * np.log(y_pred)).sum(axis=1)\n"
     ]
    },
    {
     "name": "stdout",
     "output_type": "stream",
     "text": [
      "Log loss: nan\n",
      "              precision    recall  f1-score   support\n",
      "\n",
      "         0.0       0.86      0.91      0.88    174503\n",
      "         1.0       0.90      0.85      0.88    174503\n",
      "\n",
      "    accuracy                           0.88    349006\n",
      "   macro avg       0.88      0.88      0.88    349006\n",
      "weighted avg       0.88      0.88      0.88    349006\n",
      "\n"
     ]
    }
   ],
   "source": [
    "# Predict on validation set using the trained model\n",
    "y_proba_valid = model.predict(X_valid)  # predict class probabilities for validation set\n",
    "y_pred_valid = y_proba_valid.reshape(-1)  # flatten the predictions to a 1D array\n",
    "print('Log loss:', log_loss(y_valid, y_pred_valid))  # calculate log loss for validation set\n",
    "print(classification_report(y_valid, np.where(y_pred_valid>0.5, 1, 0)))  # print classification report based on threshold of 0.5```"
   ]
  },
  {
   "cell_type": "raw",
   "metadata": {},
   "source": [
    "https://developer.apple.com/forums/thread/696224 #CPU vs GPU on macbook. CPU run faster on small batch, GPU run faster on larger batchs"
   ]
  },
  {
   "cell_type": "code",
   "execution_count": 467,
   "metadata": {},
   "outputs": [
    {
     "name": "stdout",
     "output_type": "stream",
     "text": [
      "10907/10907 [==============================] - 32s 3ms/step\n"
     ]
    }
   ],
   "source": [
    "# Prediction on test set\n",
    "y_pred_valid = model.predict(X_valid)"
   ]
  },
  {
   "cell_type": "code",
   "execution_count": null,
   "metadata": {},
   "outputs": [
    {
     "name": "stdout",
     "output_type": "stream",
     "text": [
      "3335/3335 [==============================] - 14s 4ms/step\n"
     ]
    }
   ],
   "source": [
    "# Prediction on test set\n",
    "y_pred = model.predict(X_test)\n",
    "y_pred = y_pred.reshape(-1)"
   ]
  },
  {
   "cell_type": "code",
   "execution_count": null,
   "metadata": {},
   "outputs": [],
   "source": [
    "keras.utils.plot_model(model, \"mlp_model.png\", show_shapes=True)"
   ]
  },
  {
   "cell_type": "markdown",
   "metadata": {},
   "source": [
    "# Tuning"
   ]
  },
  {
   "cell_type": "code",
   "execution_count": 6,
   "metadata": {},
   "outputs": [
    {
     "data": {
      "image/png": "[encoded data removed]",
      "text/plain": [
       "<Figure size 842.4x595.44 with 2 Axes>"
      ]
     },
     "metadata": {},
     "output_type": "display_data"
    }
   ],
   "source": [
    "# Visualize the correlation between features using a heatmap\n",
    "import seaborn as sns\n",
    "\n",
    "# Set the size of the heatmap\n",
    "sns.set(rc={'figure.figsize':(11.7,8.27)})\n",
    "\n",
    "# Create a pandas dataframe from the training set feature matrix\n",
    "X_train_df = pd.DataFrame(X_train, columns =['sum len abst', 'diff len abst', 'common words abst', 'jacquar', 'adamic', 'sum degree', 'diff degree', 'cos sim abs', 'ress alloc', 'clust 0', 'clust 1', 'cos sim auth'])\n",
    "\n",
    "# Generate a heatmap of the correlations between features\n",
    "dataplot = sns.heatmap(X_train_df.corr(), cmap=\"YlGnBu\", annot=True)"
   ]
  },
  {
   "attachments": {},
   "cell_type": "markdown",
   "metadata": {},
   "source": [
    "## Features importance"
   ]
  },
  {
   "cell_type": "code",
   "execution_count": 9,
   "metadata": {},
   "outputs": [
    {
     "data": {
      "text/plain": [
       "<AxesSubplot:title={'center':'Feature Importance'}>"
      ]
     },
     "execution_count": 9,
     "metadata": {},
     "output_type": "execute_result"
    },
    {
     "data": {
      "image/png": "[encoded data removed]",
      "text/plain": [
       "<Figure size 842.4x595.44 with 1 Axes>"
      ]
     },
     "metadata": {},
     "output_type": "display_data"
    }
   ],
   "source": [
    "# Logistic regression feature importance\n",
    "importance = lr_clf.coef_[0]\n",
    "\n",
    "# Create a pandas series of feature importances\n",
    "feature_names= ['sum len abst', 'diff len abst', 'common words abst', 'jacquar', 'adamic', 'sum degree', 'diff degree', 'cos sim abs', 'ress alloc', 'clust 0', 'clust 1', 'cos sim auth']\n",
    "feat_importances = pd.Series(importance)\n",
    "\n",
    "# Plot the top 20 features by importance\n",
    "feat_importances.nlargest(20).plot(kind='barh',title = 'Feature Importance')"
   ]
  },
  {
   "cell_type": "code",
   "execution_count": 13,
   "metadata": {},
   "outputs": [
    {
     "data": {
      "image/png": "[encoded data removed]",
      "text/plain": [
       "<Figure size 842.4x595.44 with 1 Axes>"
      ]
     },
     "metadata": {},
     "output_type": "display_data"
    }
   ],
   "source": [
    "# XgBoost\n",
    "importances = xgb_clf.feature_importances_\n",
    "feature_names= ['sum len abst', 'diff len abst', 'common words abst', 'jacquar', 'adamic', 'sum degree', 'diff degree', 'cos sim abs', 'ress alloc', 'clust 0', 'clust 1', 'cos sim auth']\n",
    "\n",
    "# create a pandas series of feature importances with the feature names as the index\n",
    "forest_importances = pd.Series(importances, index=feature_names)\n",
    "\n",
    "# create a bar plot of feature importances using the matplotlib library\n",
    "fig, ax = plt.subplots()\n",
    "forest_importances.plot.bar()\n",
    "ax.set_title(\"Feature importances using MDI\")\n",
    "ax.set_ylabel(\"Mean decrease in impurity\")\n",
    "fig.tight_layout()"
   ]
  },
  {
   "cell_type": "code",
   "execution_count": 55,
   "metadata": {},
   "outputs": [],
   "source": [
    "# Define a list of feature indices to be deleted\n",
    "features_to_delete_idx = [\n",
    "                           #0, # Uncomment and use this line to keep the 'sum len abst' feature\n",
    "                           1, # Delete the 'diff len abst' feature at index 1\n",
    "                           #2, # Uncomment and use this line to keep the 'common words abst' feature\n",
    "                           #3, # Uncomment and use this line to keep the 'jacquar' feature\n",
    "                           #4, # Uncomment and use this line to keep the 'adamic' feature\n",
    "                           5, # Delete the 'sum degree' feature at index 5\n",
    "                           #6, # Uncomment and use this line to keep the 'diff degree' feature\n",
    "                           #7, # Uncomment and use this line to keep the 'cos sim abs' feature\n",
    "                           #8, # Uncomment and use this line to keep the 'ress alloc' feature\n",
    "                           #9, # Uncomment and use this line to keep the 'clust 0' feature\n",
    "                           #10 # Uncomment and use this line to keep the 'clust 1' feature\n",
    "                           11 # Delete the 'cos sim auth' feature at index 11\n",
    "                        ]\n",
    "\n",
    "# Delete the features with the indices defined above from the training set\n",
    "X_train_ = np.delete(X_train, features_to_delete_idx, axis=1)\n",
    "\n",
    "# Delete the features with the indices defined above from the validation set\n",
    "X_valid_ = np.delete(X_valid, features_to_delete_idx, axis=1)\n",
    "\n",
    "# Delete the features with the indices defined above from the test set\n",
    "X_test_ = np.delete(X_test, features_to_delete_idx, axis=1)"
   ]
  },
  {
   "cell_type": "markdown",
   "metadata": {},
   "source": [
    "## Train and test with selected features"
   ]
  },
  {
   "cell_type": "code",
   "execution_count": 56,
   "metadata": {},
   "outputs": [
    {
     "name": "stdout",
     "output_type": "stream",
     "text": [
      "Log loss: 0.28282177120337665\n",
      "Log loss: 0.3146679345522176\n"
     ]
    },
    {
     "data": {
      "text/plain": [
       "(array([0, 1]), array([198322, 150684]))"
      ]
     },
     "execution_count": 56,
     "metadata": {},
     "output_type": "execute_result"
    }
   ],
   "source": [
    "## Logistic regression\n",
    "# Create an array containing the indices of the features to be deleted\n",
    "features_to_delete_idx = [1, 5, 11]\n",
    "\n",
    "# Delete the specified features from the training, validation and test matrices\n",
    "X_train_ = np.delete(X_train, features_to_delete_idx, axis=1)\n",
    "X_valid_ = np.delete(X_valid, features_to_delete_idx, axis=1)\n",
    "X_test_ = np.delete(X_test, features_to_delete_idx, axis=1)\n",
    "\n",
    "# Train a logistic regression model with the modified training set\n",
    "lr_clf = LogisticRegression(max_iter=10000)\n",
    "lr_clf.fit(X_train_, y_train)\n",
    "\n",
    "# Make predictions on the training set\n",
    "y_proba_train = lr_clf.predict_proba(X_train_)\n",
    "y_pred_train = y_proba_train[:,-1]\n",
    "\n",
    "# Calculate and print the log loss on the training set\n",
    "print('Log loss on training set:', log_loss(y_train, y_pred_train))\n",
    "\n",
    "# Make predictions on the validation set\n",
    "y_proba_valid = lr_clf.predict_proba(X_valid_)\n",
    "y_pred_valid = y_proba_valid[:,-1]\n",
    "\n",
    "# Calculate and print the log loss on the validation set\n",
    "print('Log loss on validation set:', log_loss(y_valid, y_pred_valid))\n",
    "\n",
    "# Count the number of predictions that are classified as 1 or 0\n",
    "# when the predicted probability is above 0.5\n",
    "np.unique(np.where(y_pred_valid>0.5, 1,0), return_counts=True)"
   ]
  },
  {
   "cell_type": "code",
   "execution_count": 57,
   "metadata": {},
   "outputs": [
    {
     "name": "stdout",
     "output_type": "stream",
     "text": [
      "[13:45:19] WARNING: ../src/learner.cc:1115: Starting in XGBoost 1.3.0, the default evaluation metric used with the objective 'binary:logistic' was changed from 'error' to 'logloss'. Explicitly set eval_metric if you'd like to restore the old behavior.\n",
      "Log loss train: 0.22575310826009595\n",
      "Log loss valid: 0.3164638049837652\n"
     ]
    }
   ],
   "source": [
    "## XGB\n",
    "# instantiate the XGBClassifier classifier \n",
    "xgb_clf = XGBClassifier(n_jobs=8, use_label_encoder=False)\n",
    "\n",
    "# fit the classifier to the training data after removing the selected features\n",
    "xgb_clf.fit(X_train_, y_train)\n",
    "\n",
    "# predict the probabilities of each class for the training set\n",
    "y_proba_train = xgb_clf.predict_proba(X_train_)\n",
    "\n",
    "# predict the probabilities of each class for the validation set\n",
    "y_proba_valid = xgb_clf.predict_proba(X_valid_)\n",
    "\n",
    "# get the probabilities of the positive class for both training and validation sets\n",
    "y_pred_train = y_proba_train[:, 1]\n",
    "y_pred_valid = y_proba_valid[:, 1]\n",
    "\n",
    "# calculate and print the log loss for the training set\n",
    "print('Log loss train:', log_loss(y_train, y_pred_train))\n",
    "\n",
    "# calculate and print the log loss for the validation set\n",
    "print('Log loss valid:', log_loss(y_valid, y_pred_valid))"
   ]
  },
  {
   "cell_type": "code",
   "execution_count": 59,
   "metadata": {},
   "outputs": [
    {
     "name": "stdout",
     "output_type": "stream",
     "text": [
      "Epoch 1/10\n",
      "43735/43735 [==============================] - 39s 889us/step - loss: 0.2540 - binary_accuracy: 0.8924 - val_loss: 0.2944 - val_binary_accuracy: 0.8798\n",
      "Epoch 2/10\n",
      "43735/43735 [==============================] - 38s 876us/step - loss: 0.2451 - binary_accuracy: 0.8956 - val_loss: 0.2918 - val_binary_accuracy: 0.8781\n",
      "Epoch 3/10\n",
      "43735/43735 [==============================] - 39s 887us/step - loss: 0.2430 - binary_accuracy: 0.8964 - val_loss: 0.2941 - val_binary_accuracy: 0.8813\n",
      "Epoch 4/10\n",
      "43735/43735 [==============================] - 38s 875us/step - loss: 0.2416 - binary_accuracy: 0.8969 - val_loss: 0.2886 - val_binary_accuracy: 0.8818\n",
      "Epoch 5/10\n",
      "43735/43735 [==============================] - 39s 891us/step - loss: 0.2408 - binary_accuracy: 0.8971 - val_loss: 0.2843 - val_binary_accuracy: 0.8820\n",
      "Epoch 6/10\n",
      "43735/43735 [==============================] - 37s 846us/step - loss: 0.2401 - binary_accuracy: 0.8975 - val_loss: 0.2914 - val_binary_accuracy: 0.8822\n",
      "Epoch 7/10\n",
      "43735/43735 [==============================] - 37s 843us/step - loss: 0.2399 - binary_accuracy: 0.8975 - val_loss: 0.2904 - val_binary_accuracy: 0.8820\n",
      "Epoch 8/10\n",
      "43735/43735 [==============================] - 37s 848us/step - loss: 0.2395 - binary_accuracy: 0.8978 - val_loss: 0.2929 - val_binary_accuracy: 0.8819\n",
      "Epoch 9/10\n",
      "43735/43735 [==============================] - 37s 845us/step - loss: 0.2390 - binary_accuracy: 0.8978 - val_loss: 0.3065 - val_binary_accuracy: 0.8803\n",
      "Epoch 10/10\n",
      "43735/43735 [==============================] - 41s 939us/step - loss: 0.2388 - binary_accuracy: 0.8979 - val_loss: 0.2971 - val_binary_accuracy: 0.8798\n"
     ]
    }
   ],
   "source": [
    "# Set the seed for reproducibility\n",
    "tf.random.set_seed(42)\n",
    "\n",
    "# Create a sequential model\n",
    "model = keras.Sequential()\n",
    "\n",
    "# Adding layers to the model\n",
    "model.add(keras.layers.InputLayer(input_shape=[9,])) \n",
    "model.add(keras.layers.Dense(128, activation=\"relu\")) \n",
    "model.add(keras.layers.Dropout(0.2))\n",
    "model.add(keras.layers.Dense(64, activation=\"relu\"))\n",
    "model.add(keras.layers.Dropout(0.2))\n",
    "model.add(keras.layers.Dense(16, activation=\"relu\"))\n",
    "model.add(keras.layers.Dense(1, activation=\"sigmoid\"))\n",
    "\n",
    "# Compiling the model with binary crossentropy as the loss function and Adam optimizer\n",
    "model.compile(loss=\"binary_crossentropy\",\n",
    "              optimizer=\"Adam\",\n",
    "              metrics=[\"binary_accuracy\"],\n",
    "              )\n",
    "\n",
    "# Training the model for 10 epochs with the training data and validating with the validation data\n",
    "history = model.fit(X_train_, y_train, epochs=10, validation_data=(X_valid_, y_valid))"
   ]
  },
  {
   "cell_type": "code",
   "execution_count": null,
   "metadata": {},
   "outputs": [],
   "source": [
    "print(classification_report(y_valid, np.where(y_pred_valid>0.5, 1, 0)))"
   ]
  },
  {
   "cell_type": "markdown",
   "metadata": {},
   "source": [
    "## Gridsearch"
   ]
  },
  {
   "cell_type": "code",
   "execution_count": null,
   "metadata": {},
   "outputs": [],
   "source": [
    "# Import required libraries\n",
    "from sklearn.linear_model import LogisticRegression\n",
    "from sklearn.model_selection import GridSearchCV\n",
    "\n",
    "# Define a grid of hyperparameters\n",
    "grid = {\"C\": np.logspace(-3, 3, 7), \"penalty\": [\"l1\", \"l2\"]}  # l1 lasso l2 ridge\n",
    "\n",
    "# Instantiate a logistic regression classifier\n",
    "lr_clf = LogisticRegression()\n",
    "\n",
    "# Perform grid search with cross-validation to find the best hyperparameters\n",
    "logreg_cv = GridSearchCV(lr_clf, grid, cv=10)\n",
    "logreg_cv.fit(X_train, y_train)\n",
    "\n",
    "# Print the best hyperparameters and the corresponding accuracy score\n",
    "print(\"Tuned hyperparameters (best parameters): \", logreg_cv.best_params_)\n",
    "print(\"Accuracy: \", logreg_cv.best_score_)"
   ]
  },
  {
   "cell_type": "markdown",
   "metadata": {},
   "source": [
    "# Perspectives"
   ]
  },
  {
   "attachments": {},
   "cell_type": "markdown",
   "metadata": {},
   "source": [
    "To further enhance our citation prediction model, we can explore additional techniques such as:\n",
    "\n",
    "- Node2vec: a node embedding algorithm that can help us capture structural information in the citation network and represent each node as a vector.\n",
    "- Tf-Idf: a text representation technique that can help us extract relevant features from the abstracts of the papers.\n",
    "- Scibert: a pre-trained language model that can help us extract relevant features from the text data in a more efficient way compared to traditional techniques.\n",
    "\n",
    "By combining these techniques with the existing methods, we can potentially improve the performance of our model and achieve better prediction accuracy."
   ]
  }
 ],
 "metadata": {
  "kernelspec": {
   "display_name": "Python 3.8.13 ('base')",
   "language": "python",
   "name": "python3"
  },
  "language_info": {
   "codemirror_mode": {
    "name": "ipython",
    "version": 3
   },
   "file_extension": ".py",
   "mimetype": "text/x-python",
   "name": "python",
   "nbconvert_exporter": "python",
   "pygments_lexer": "ipython3",
   "version": "3.9.13"
  },
  "orig_nbformat": 4,
  "vscode": {
   "interpreter": {
    "hash": "64a39b91bec31735984f2b3ca075fe39a548d3756ba11210ded16399b6df0ef9"
   }
  }
 },
 "nbformat": 4,
 "nbformat_minor": 2
}
